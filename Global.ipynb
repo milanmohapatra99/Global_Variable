{
 "cells": [
  {
   "cell_type": "code",
   "execution_count": 1,
   "id": "55d8e068",
   "metadata": {},
   "outputs": [
    {
     "name": "stdout",
     "output_type": "stream",
     "text": [
      "65\n"
     ]
    }
   ],
   "source": [
    "a = 65\n",
    "def fun1():\n",
    "    print(a)\n",
    "fun1()"
   ]
  },
  {
   "cell_type": "code",
   "execution_count": 2,
   "id": "dcf459e4",
   "metadata": {},
   "outputs": [
    {
     "name": "stdout",
     "output_type": "stream",
     "text": [
      "8\n"
     ]
    }
   ],
   "source": [
    "a = 65\n",
    "def fun1():\n",
    "    a = 8\n",
    "    print(a)\n",
    "fun1()"
   ]
  },
  {
   "cell_type": "code",
   "execution_count": 3,
   "id": "b6fc559d",
   "metadata": {},
   "outputs": [
    {
     "name": "stdout",
     "output_type": "stream",
     "text": [
      "8\n",
      "65\n"
     ]
    }
   ],
   "source": [
    "a = 65\n",
    "def fun1():\n",
    "    a = 8\n",
    "    print(a)\n",
    "fun1()\n",
    "print(a)"
   ]
  },
  {
   "cell_type": "code",
   "execution_count": 6,
   "id": "a53715ff",
   "metadata": {},
   "outputs": [
    {
     "name": "stdout",
     "output_type": "stream",
     "text": [
      "8\n",
      "8\n"
     ]
    }
   ],
   "source": [
    "a = 65\n",
    "def fun1():\n",
    "    global a\n",
    "    \n",
    "    a = 8\n",
    "    print(a)\n",
    "fun1()\n",
    "print(a)"
   ]
  },
  {
   "cell_type": "code",
   "execution_count": 8,
   "id": "6facd381",
   "metadata": {},
   "outputs": [
    {
     "name": "stdout",
     "output_type": "stream",
     "text": [
      "statement1:- 65\n",
      "statement2:- 8\n",
      "statement3:- 8\n"
     ]
    }
   ],
   "source": [
    "a = 65\n",
    "def fun1():\n",
    "    global a\n",
    "    print(f\"statement1:- {a}\")\n",
    "    a = 8\n",
    "    print(f\"statement2:- {a}\")\n",
    "fun1()\n",
    "print(f\"statement3:- {a}\")"
   ]
  },
  {
   "cell_type": "code",
   "execution_count": null,
   "id": "dcf89bfe",
   "metadata": {},
   "outputs": [],
   "source": []
  }
 ],
 "metadata": {
  "kernelspec": {
   "display_name": "Python 3 (ipykernel)",
   "language": "python",
   "name": "python3"
  },
  "language_info": {
   "codemirror_mode": {
    "name": "ipython",
    "version": 3
   },
   "file_extension": ".py",
   "mimetype": "text/x-python",
   "name": "python",
   "nbconvert_exporter": "python",
   "pygments_lexer": "ipython3",
   "version": "3.9.7"
  }
 },
 "nbformat": 4,
 "nbformat_minor": 5
}
